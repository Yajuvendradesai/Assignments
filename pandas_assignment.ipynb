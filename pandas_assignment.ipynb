{
  "nbformat": 4,
  "nbformat_minor": 0,
  "metadata": {
    "colab": {
      "name": "pandas assignment.ipynb",
      "provenance": [],
      "collapsed_sections": []
    },
    "kernelspec": {
      "name": "python3",
      "display_name": "Python 3"
    }
  },
  "cells": [
    {
      "cell_type": "markdown",
      "metadata": {
        "id": "DB55La19iHt1",
        "colab_type": "text"
      },
      "source": [
        "1.Introduction\n",
        "This assignment will help you to consolidate the concepts learnt in the session.\n",
        "2.Problem Statement\n",
        "It happens all the time: someone gives you data containing malformed strings,\n",
        "Python, lists and missing data. How do you tidy it up so you can get on with the\n",
        "analysis?\n",
        "Take this monstrosity as the DataFrame to use in the following puzzles:\n",
        "df = pd.DataFrame({'From_To': ['LoNDon_paris', 'MAdrid_miLAN',\n",
        "'londON_StockhOlm',\n",
        "'Budapest_PaRis', 'Brussels_londOn'],\n",
        "'FlightNumber': [10045, np.nan, 10065, np.nan, 10085],\n",
        "'RecentDelays': [[23, 47], [], [24, 43, 87], [13], [67, 32]],\n",
        "'Airline': ['KLM(!)', '<Air France> (12)', '(British Airways. )',\n",
        "'12. Air France', '\"Swiss Air\"']})\n",
        "1. Some values in the the FlightNumber column are missing. These numbers are\n",
        "meant to increase by 10 with each row so 10055 and 10075 need to be put in\n",
        "place. Fill in these missing numbers and make the column an integer column\n",
        "(instead of a float column).\n",
        "2. The From_To column would be better as two separate columns! Split each\n",
        "string on the underscore delimiter _ to give a new temporary DataFrame with\n",
        "the correct values. Assign the correct column names to this temporary\n",
        "DataFrame.\n",
        "3. Notice how the capitalisation of the city names is all mixed up in this\n",
        "temporary DataFrame. Standardise the strings so that only the first letter is\n",
        "uppercase (e.g. \"londON\" should become \"London\".)\n",
        "4. Delete the From_To column from df and attach the temporary DataFrame\n",
        "from the previous questions.\n",
        "5. In the RecentDelays column, the values have been entered into the\n",
        "DataFrame as a list. We would like each first value in its own column, each \n",
        "second value in its own column, and so on. If there isn't an Nth value, the value\n",
        "should be NaN.\n",
        "Expand the Series of lists into a DataFrame named delays, rename the columns\n",
        "delay_1, delay_2, etc. and replace the unwanted RecentDelays column in df\n",
        "with delays.\n",
        "Note: Solution submitted via github must contain all the source code and output.\n",
        "3. Expected Output\n",
        "This assignment consists of 200 marks and has to be submitted in .ipynb format in\n",
        "the upcoming session for evaluation."
      ]
    },
    {
      "cell_type": "markdown",
      "metadata": {
        "id": "CE4x5omiiG7F",
        "colab_type": "text"
      },
      "source": [
        ""
      ]
    },
    {
      "cell_type": "code",
      "metadata": {
        "id": "ddocZYVTJ4ji",
        "colab_type": "code",
        "colab": {
          "base_uri": "https://localhost:8080/",
          "height": 204
        },
        "outputId": "214a9205-27ce-4057-d450-c83ce0ea7ba4"
      },
      "source": [
        "import pandas as pd\n",
        "import numpy as np\n",
        "\n",
        "# Take airline dataframe here \n",
        "\n",
        "data_frame_airline_journay = pd.DataFrame({'From_To': ['LoNDon_paris', 'MAdrid_miLAN',\n",
        "'londON_StockhOlm',\n",
        "'Budapest_PaRis', 'Brussels_londOn'],\n",
        "'FlightNumber': [10045, np.nan, 10065, np.nan, 10085],\n",
        "'RecentDelays': [[23, 47], [], [24, 43, 87], [13], [67, 32]],\n",
        "'Airline': ['KLM(!)', '<Air France> (12)', '(British Airways. )',\n",
        "'12. Air France', '\"Swiss Air\"']})\n",
        "print(data_frame_airline_journay)\n",
        "# print col types\n",
        "print(data_frame_airline_journay.dtypes)\n",
        "\n",
        "\n",
        "\n"
      ],
      "execution_count": 9,
      "outputs": [
        {
          "output_type": "stream",
          "text": [
            "            From_To  FlightNumber  RecentDelays              Airline\n",
            "0      LoNDon_paris       10045.0      [23, 47]               KLM(!)\n",
            "1      MAdrid_miLAN           NaN            []    <Air France> (12)\n",
            "2  londON_StockhOlm       10065.0  [24, 43, 87]  (British Airways. )\n",
            "3    Budapest_PaRis           NaN          [13]       12. Air France\n",
            "4   Brussels_londOn       10085.0      [67, 32]          \"Swiss Air\"\n",
            "From_To          object\n",
            "FlightNumber    float64\n",
            "RecentDelays     object\n",
            "Airline          object\n",
            "dtype: object\n"
          ],
          "name": "stdout"
        }
      ]
    },
    {
      "cell_type": "markdown",
      "metadata": {
        "id": "E164TUpPKGIZ",
        "colab_type": "text"
      },
      "source": [
        "\n",
        "\n",
        "```\n",
        "#  task1 \n",
        "```\n",
        "\n"
      ]
    },
    {
      "cell_type": "code",
      "metadata": {
        "id": "tk3OgG7_KNG0",
        "colab_type": "code",
        "outputId": "748d7304-c23d-44a1-bedd-e308fc97039a",
        "colab": {
          "base_uri": "https://localhost:8080/",
          "height": 136
        }
      },
      "source": [
        "\n",
        "# In place replace fillna values\n",
        "data_frame_airline_journay.FlightNumber.fillna(0,inplace=True)\n",
        "# change type of column to to number \n",
        "\n",
        "data_frame_airline_journay['FlightNumber'].astype(int)\n",
        "# increase value by 10 if not nan \n",
        "increase_by_value = lambda x: x +10 if x>0 else x\n",
        "data_frame_airline_journay.FlightNumber.apply(increase_by_value)\n",
        "\n",
        "print(\"task 1 result is /n\")\n",
        "print(data_frame_airline_journay)"
      ],
      "execution_count": 10,
      "outputs": [
        {
          "output_type": "stream",
          "text": [
            "task 1 result is /n\n",
            "            From_To  FlightNumber  RecentDelays              Airline\n",
            "0      LoNDon_paris       10045.0      [23, 47]               KLM(!)\n",
            "1      MAdrid_miLAN           0.0            []    <Air France> (12)\n",
            "2  londON_StockhOlm       10065.0  [24, 43, 87]  (British Airways. )\n",
            "3    Budapest_PaRis           0.0          [13]       12. Air France\n",
            "4   Brussels_londOn       10085.0      [67, 32]          \"Swiss Air\"\n"
          ],
          "name": "stdout"
        }
      ]
    },
    {
      "cell_type": "markdown",
      "metadata": {
        "id": "yHkPqm0VKsik",
        "colab_type": "text"
      },
      "source": [
        "\n",
        "\n",
        "```\n",
        "# Task2\n",
        "```\n",
        "\n"
      ]
    },
    {
      "cell_type": "code",
      "metadata": {
        "id": "lA4Cf5k4KxpD",
        "colab_type": "code",
        "outputId": "9a52bb7a-243a-46e2-fd78-b4f2970582a0",
        "colab": {
          "base_uri": "https://localhost:8080/",
          "height": 153
        }
      },
      "source": [
        "'''The From_To column would be better as two separate columns!\n",
        "Split each string on the underscore delimiter _ \n",
        "to give a new temporary DataFrame with the correct values.\n",
        "Assign the correct column names to this temporary DataFrame.'''\n",
        "data_frame_airline_journay[['From City','To City']] = data_frame_airline_journay.From_To.apply( \n",
        "   lambda x: pd.Series(str(x).split(\"_\"))) \n",
        "\n",
        "print(data_frame_airline_journay)"
      ],
      "execution_count": 11,
      "outputs": [
        {
          "output_type": "stream",
          "text": [
            "            From_To  FlightNumber  ... From City    To City\n",
            "0      LoNDon_paris       10045.0  ...    LoNDon      paris\n",
            "1      MAdrid_miLAN           0.0  ...    MAdrid      miLAN\n",
            "2  londON_StockhOlm       10065.0  ...    londON  StockhOlm\n",
            "3    Budapest_PaRis           0.0  ...  Budapest      PaRis\n",
            "4   Brussels_londOn       10085.0  ...  Brussels     londOn\n",
            "\n",
            "[5 rows x 6 columns]\n"
          ],
          "name": "stdout"
        }
      ]
    },
    {
      "cell_type": "markdown",
      "metadata": {
        "id": "kgp1M2-YK_jB",
        "colab_type": "text"
      },
      "source": [
        "\n",
        "\n",
        "```\n",
        "#  task 3 \n",
        "'''Notice how the capitalisation of the city names is all mixed up in this temporary DataFrame. Standardise the strings so that only the first letter is uppercase (e.g. \"londON\" should become \"London\".)'''\n",
        "```\n",
        "\n"
      ]
    },
    {
      "cell_type": "code",
      "metadata": {
        "id": "d77x3iwvLHvC",
        "colab_type": "code",
        "colab": {
          "base_uri": "https://localhost:8080/",
          "height": 153
        },
        "outputId": "8d8fb59b-15e2-4580-d6dd-843e2fb2f193"
      },
      "source": [
        "data_frame_airline_journay['From City']=data_frame_airline_journay['To City'].str.upper()\n",
        "data_frame_airline_journay['To City']=data_frame_airline_journay['To City'].str.upper()\n",
        "print(data_frame_airline_journay)"
      ],
      "execution_count": 12,
      "outputs": [
        {
          "output_type": "stream",
          "text": [
            "            From_To  FlightNumber  ...  From City    To City\n",
            "0      LoNDon_paris       10045.0  ...      PARIS      PARIS\n",
            "1      MAdrid_miLAN           0.0  ...      MILAN      MILAN\n",
            "2  londON_StockhOlm       10065.0  ...  STOCKHOLM  STOCKHOLM\n",
            "3    Budapest_PaRis           0.0  ...      PARIS      PARIS\n",
            "4   Brussels_londOn       10085.0  ...     LONDON     LONDON\n",
            "\n",
            "[5 rows x 6 columns]\n"
          ],
          "name": "stdout"
        }
      ]
    },
    {
      "cell_type": "markdown",
      "metadata": {
        "id": "nbYZq32ELXiA",
        "colab_type": "text"
      },
      "source": [
        "\n",
        "\n",
        "```\n",
        "# task 4 \n",
        "\n",
        "'''Delete the From_To column from df and attach the temporary DataFrame from the previous questions.'''\n",
        "```\n",
        "\n"
      ]
    },
    {
      "cell_type": "code",
      "metadata": {
        "id": "MrPoeKkQLgUB",
        "colab_type": "code",
        "outputId": "a0e379b3-656d-4de9-97e2-f6944eca8521",
        "colab": {
          "base_uri": "https://localhost:8080/",
          "height": 204
        }
      },
      "source": [
        "data_frame_airline_journay.drop(['From_To'], axis=1)"
      ],
      "execution_count": 13,
      "outputs": [
        {
          "output_type": "execute_result",
          "data": {
            "text/html": [
              "<div>\n",
              "<style scoped>\n",
              "    .dataframe tbody tr th:only-of-type {\n",
              "        vertical-align: middle;\n",
              "    }\n",
              "\n",
              "    .dataframe tbody tr th {\n",
              "        vertical-align: top;\n",
              "    }\n",
              "\n",
              "    .dataframe thead th {\n",
              "        text-align: right;\n",
              "    }\n",
              "</style>\n",
              "<table border=\"1\" class=\"dataframe\">\n",
              "  <thead>\n",
              "    <tr style=\"text-align: right;\">\n",
              "      <th></th>\n",
              "      <th>FlightNumber</th>\n",
              "      <th>RecentDelays</th>\n",
              "      <th>Airline</th>\n",
              "      <th>From City</th>\n",
              "      <th>To City</th>\n",
              "    </tr>\n",
              "  </thead>\n",
              "  <tbody>\n",
              "    <tr>\n",
              "      <th>0</th>\n",
              "      <td>10045.0</td>\n",
              "      <td>[23, 47]</td>\n",
              "      <td>KLM(!)</td>\n",
              "      <td>PARIS</td>\n",
              "      <td>PARIS</td>\n",
              "    </tr>\n",
              "    <tr>\n",
              "      <th>1</th>\n",
              "      <td>0.0</td>\n",
              "      <td>[]</td>\n",
              "      <td>&lt;Air France&gt; (12)</td>\n",
              "      <td>MILAN</td>\n",
              "      <td>MILAN</td>\n",
              "    </tr>\n",
              "    <tr>\n",
              "      <th>2</th>\n",
              "      <td>10065.0</td>\n",
              "      <td>[24, 43, 87]</td>\n",
              "      <td>(British Airways. )</td>\n",
              "      <td>STOCKHOLM</td>\n",
              "      <td>STOCKHOLM</td>\n",
              "    </tr>\n",
              "    <tr>\n",
              "      <th>3</th>\n",
              "      <td>0.0</td>\n",
              "      <td>[13]</td>\n",
              "      <td>12. Air France</td>\n",
              "      <td>PARIS</td>\n",
              "      <td>PARIS</td>\n",
              "    </tr>\n",
              "    <tr>\n",
              "      <th>4</th>\n",
              "      <td>10085.0</td>\n",
              "      <td>[67, 32]</td>\n",
              "      <td>\"Swiss Air\"</td>\n",
              "      <td>LONDON</td>\n",
              "      <td>LONDON</td>\n",
              "    </tr>\n",
              "  </tbody>\n",
              "</table>\n",
              "</div>"
            ],
            "text/plain": [
              "   FlightNumber  RecentDelays              Airline  From City    To City\n",
              "0       10045.0      [23, 47]               KLM(!)      PARIS      PARIS\n",
              "1           0.0            []    <Air France> (12)      MILAN      MILAN\n",
              "2       10065.0  [24, 43, 87]  (British Airways. )  STOCKHOLM  STOCKHOLM\n",
              "3           0.0          [13]       12. Air France      PARIS      PARIS\n",
              "4       10085.0      [67, 32]          \"Swiss Air\"     LONDON     LONDON"
            ]
          },
          "metadata": {
            "tags": []
          },
          "execution_count": 13
        }
      ]
    },
    {
      "cell_type": "markdown",
      "metadata": {
        "id": "e-nPZuswLnIL",
        "colab_type": "text"
      },
      "source": [
        "\n",
        "\n",
        "```\n",
        "# ###### task 5\n",
        "#In the RecentDelays column, \n",
        "#the values have been entered into the DataFrame as a list.\n",
        "#We would like each first value in its own column, \n",
        "#each second value in its own column, and so on. \n",
        "#If there isn't an Nth value, the value should be NaN.\n",
        "#Expand the Series of lists into a DataFrame named delays, \n",
        "#rename the columns delay_1, delay_2, etc. and replace the unwanted \n",
        "#RecentDelays column in df with delays. Note: Solution submitted\n",
        "#via github must contain all the source code and output.\n",
        "```\n",
        "\n"
      ]
    },
    {
      "cell_type": "code",
      "metadata": {
        "id": "OHncHJFmLsrG",
        "colab_type": "code",
        "outputId": "6f712e10-ece6-409d-984b-dd3ce0ec269b",
        "colab": {
          "base_uri": "https://localhost:8080/",
          "height": 340
        }
      },
      "source": [
        "recentDelays_col_values=data_frame_airline_journay['RecentDelays'].values.tolist()\n",
        "print (recentDelays_col_values)\n",
        "\n",
        "# split list values into new data frame and \n",
        "lists_to_columns_with_prefix_name = pd.DataFrame(recentDelays_col_values).add_prefix('Delays_')\n",
        "print(lists_to_columns_with_prefix_name)\n",
        "data_frame_airline_journay=data_frame_airline_journay.drop(['RecentDelays'], axis=1)\n",
        "print(\"Removed column -- data_frame_airline_journay\")\n",
        "data_frame_airline_journay.join(lists_to_columns_with_prefix_name)"
      ],
      "execution_count": 14,
      "outputs": [
        {
          "output_type": "stream",
          "text": [
            "[[23, 47], [], [24, 43, 87], [13], [67, 32]]\n",
            "   Delays_0  Delays_1  Delays_2\n",
            "0      23.0      47.0       NaN\n",
            "1       NaN       NaN       NaN\n",
            "2      24.0      43.0      87.0\n",
            "3      13.0       NaN       NaN\n",
            "4      67.0      32.0       NaN\n",
            "Removed column -- data_frame_airline_journay\n"
          ],
          "name": "stdout"
        },
        {
          "output_type": "execute_result",
          "data": {
            "text/html": [
              "<div>\n",
              "<style scoped>\n",
              "    .dataframe tbody tr th:only-of-type {\n",
              "        vertical-align: middle;\n",
              "    }\n",
              "\n",
              "    .dataframe tbody tr th {\n",
              "        vertical-align: top;\n",
              "    }\n",
              "\n",
              "    .dataframe thead th {\n",
              "        text-align: right;\n",
              "    }\n",
              "</style>\n",
              "<table border=\"1\" class=\"dataframe\">\n",
              "  <thead>\n",
              "    <tr style=\"text-align: right;\">\n",
              "      <th></th>\n",
              "      <th>From_To</th>\n",
              "      <th>FlightNumber</th>\n",
              "      <th>Airline</th>\n",
              "      <th>From City</th>\n",
              "      <th>To City</th>\n",
              "      <th>Delays_0</th>\n",
              "      <th>Delays_1</th>\n",
              "      <th>Delays_2</th>\n",
              "    </tr>\n",
              "  </thead>\n",
              "  <tbody>\n",
              "    <tr>\n",
              "      <th>0</th>\n",
              "      <td>LoNDon_paris</td>\n",
              "      <td>10045.0</td>\n",
              "      <td>KLM(!)</td>\n",
              "      <td>PARIS</td>\n",
              "      <td>PARIS</td>\n",
              "      <td>23.0</td>\n",
              "      <td>47.0</td>\n",
              "      <td>NaN</td>\n",
              "    </tr>\n",
              "    <tr>\n",
              "      <th>1</th>\n",
              "      <td>MAdrid_miLAN</td>\n",
              "      <td>0.0</td>\n",
              "      <td>&lt;Air France&gt; (12)</td>\n",
              "      <td>MILAN</td>\n",
              "      <td>MILAN</td>\n",
              "      <td>NaN</td>\n",
              "      <td>NaN</td>\n",
              "      <td>NaN</td>\n",
              "    </tr>\n",
              "    <tr>\n",
              "      <th>2</th>\n",
              "      <td>londON_StockhOlm</td>\n",
              "      <td>10065.0</td>\n",
              "      <td>(British Airways. )</td>\n",
              "      <td>STOCKHOLM</td>\n",
              "      <td>STOCKHOLM</td>\n",
              "      <td>24.0</td>\n",
              "      <td>43.0</td>\n",
              "      <td>87.0</td>\n",
              "    </tr>\n",
              "    <tr>\n",
              "      <th>3</th>\n",
              "      <td>Budapest_PaRis</td>\n",
              "      <td>0.0</td>\n",
              "      <td>12. Air France</td>\n",
              "      <td>PARIS</td>\n",
              "      <td>PARIS</td>\n",
              "      <td>13.0</td>\n",
              "      <td>NaN</td>\n",
              "      <td>NaN</td>\n",
              "    </tr>\n",
              "    <tr>\n",
              "      <th>4</th>\n",
              "      <td>Brussels_londOn</td>\n",
              "      <td>10085.0</td>\n",
              "      <td>\"Swiss Air\"</td>\n",
              "      <td>LONDON</td>\n",
              "      <td>LONDON</td>\n",
              "      <td>67.0</td>\n",
              "      <td>32.0</td>\n",
              "      <td>NaN</td>\n",
              "    </tr>\n",
              "  </tbody>\n",
              "</table>\n",
              "</div>"
            ],
            "text/plain": [
              "            From_To  FlightNumber  ... Delays_1 Delays_2\n",
              "0      LoNDon_paris       10045.0  ...     47.0      NaN\n",
              "1      MAdrid_miLAN           0.0  ...      NaN      NaN\n",
              "2  londON_StockhOlm       10065.0  ...     43.0     87.0\n",
              "3    Budapest_PaRis           0.0  ...      NaN      NaN\n",
              "4   Brussels_londOn       10085.0  ...     32.0      NaN\n",
              "\n",
              "[5 rows x 8 columns]"
            ]
          },
          "metadata": {
            "tags": []
          },
          "execution_count": 14
        }
      ]
    }
  ]
}